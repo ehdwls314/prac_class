{
  "nbformat": 4,
  "nbformat_minor": 0,
  "metadata": {
    "colab": {
      "name": "데마 ",
      "provenance": [],
      "mount_file_id": "https://github.com/ehdwls314/prac_class/blob/main/%EB%8D%B0%EB%A7%88.ipynb",
      "authorship_tag": "ABX9TyPrGBXtIUg6em6ATg3MjmCP",
      "include_colab_link": true
    },
    "kernelspec": {
      "name": "python3",
      "display_name": "Python 3"
    },
    "language_info": {
      "name": "python"
    }
  },
  "cells": [
    {
      "cell_type": "markdown",
      "metadata": {
        "id": "view-in-github",
        "colab_type": "text"
      },
      "source": [
        "<a href=\"https://colab.research.google.com/github/ehdwls314/prac_class/blob/main/%EB%8D%B0%EB%A7%88.ipynb\" target=\"_parent\"><img src=\"https://colab.research.google.com/assets/colab-badge.svg\" alt=\"Open In Colab\"/></a>"
      ]
    },
    {
      "cell_type": "code",
      "metadata": {
        "id": "f-PRT_uA9mMP"
      },
      "source": [
        "\n",
        "import pandas as pd\n",
        "import numpy as np\n",
        "import matplotlib.pyplot as plt\n",
        "import lightgbm as lgb\n"
      ],
      "execution_count": 2,
      "outputs": []
    },
    {
      "cell_type": "code",
      "metadata": {
        "id": "vCBtAOCW9R68"
      },
      "source": [
        "import keras"
      ],
      "execution_count": 21,
      "outputs": []
    },
    {
      "cell_type": "code",
      "metadata": {
        "id": "vTEa1zIC9rbo"
      },
      "source": [
        "total = pd.read_csv('한국가스공사_시간별 공급량_20181231.csv', encoding='cp949')"
      ],
      "execution_count": 3,
      "outputs": []
    },
    {
      "cell_type": "code",
      "metadata": {
        "colab": {
          "base_uri": "https://localhost:8080/",
          "height": 206
        },
        "id": "A4FrEa4SAvjE",
        "outputId": "9af4d596-e6fe-4724-a2e3-5701c411b3d4"
      },
      "source": [
        "total.head()"
      ],
      "execution_count": 4,
      "outputs": [
        {
          "output_type": "execute_result",
          "data": {
            "text/html": [
              "<div>\n",
              "<style scoped>\n",
              "    .dataframe tbody tr th:only-of-type {\n",
              "        vertical-align: middle;\n",
              "    }\n",
              "\n",
              "    .dataframe tbody tr th {\n",
              "        vertical-align: top;\n",
              "    }\n",
              "\n",
              "    .dataframe thead th {\n",
              "        text-align: right;\n",
              "    }\n",
              "</style>\n",
              "<table border=\"1\" class=\"dataframe\">\n",
              "  <thead>\n",
              "    <tr style=\"text-align: right;\">\n",
              "      <th></th>\n",
              "      <th>연월일</th>\n",
              "      <th>시간</th>\n",
              "      <th>구분</th>\n",
              "      <th>공급량</th>\n",
              "    </tr>\n",
              "  </thead>\n",
              "  <tbody>\n",
              "    <tr>\n",
              "      <th>0</th>\n",
              "      <td>2013-01-01</td>\n",
              "      <td>1</td>\n",
              "      <td>A</td>\n",
              "      <td>2497.129</td>\n",
              "    </tr>\n",
              "    <tr>\n",
              "      <th>1</th>\n",
              "      <td>2013-01-01</td>\n",
              "      <td>2</td>\n",
              "      <td>A</td>\n",
              "      <td>2363.265</td>\n",
              "    </tr>\n",
              "    <tr>\n",
              "      <th>2</th>\n",
              "      <td>2013-01-01</td>\n",
              "      <td>3</td>\n",
              "      <td>A</td>\n",
              "      <td>2258.505</td>\n",
              "    </tr>\n",
              "    <tr>\n",
              "      <th>3</th>\n",
              "      <td>2013-01-01</td>\n",
              "      <td>4</td>\n",
              "      <td>A</td>\n",
              "      <td>2243.969</td>\n",
              "    </tr>\n",
              "    <tr>\n",
              "      <th>4</th>\n",
              "      <td>2013-01-01</td>\n",
              "      <td>5</td>\n",
              "      <td>A</td>\n",
              "      <td>2344.105</td>\n",
              "    </tr>\n",
              "  </tbody>\n",
              "</table>\n",
              "</div>"
            ],
            "text/plain": [
              "          연월일  시간 구분       공급량\n",
              "0  2013-01-01   1  A  2497.129\n",
              "1  2013-01-01   2  A  2363.265\n",
              "2  2013-01-01   3  A  2258.505\n",
              "3  2013-01-01   4  A  2243.969\n",
              "4  2013-01-01   5  A  2344.105"
            ]
          },
          "metadata": {},
          "execution_count": 4
        }
      ]
    },
    {
      "cell_type": "code",
      "metadata": {
        "colab": {
          "base_uri": "https://localhost:8080/"
        },
        "id": "5mH9MtVxAvb5",
        "outputId": "a2df3889-bd28-4b3a-b9f3-b0c6fae8575d"
      },
      "source": [
        "total['구분'].unique()"
      ],
      "execution_count": 5,
      "outputs": [
        {
          "output_type": "execute_result",
          "data": {
            "text/plain": [
              "array(['A', 'B', 'C', 'D', 'E', 'G', 'H'], dtype=object)"
            ]
          },
          "metadata": {},
          "execution_count": 5
        }
      ]
    },
    {
      "cell_type": "code",
      "metadata": {
        "id": "BrDQA1-YAvVp"
      },
      "source": [
        "d_map = {}\n",
        "for i, d in enumerate(total['구분'].unique()):\n",
        "    d_map[d] = i\n",
        "total['구분'] = total['구분'].map(d_map)"
      ],
      "execution_count": 6,
      "outputs": []
    },
    {
      "cell_type": "code",
      "metadata": {
        "id": "UOOeVPslAvDI"
      },
      "source": [
        "total['연월일'] = pd.to_datetime(total['연월일'])"
      ],
      "execution_count": 7,
      "outputs": []
    },
    {
      "cell_type": "code",
      "metadata": {
        "id": "E60sP3CmE1Oo"
      },
      "source": [
        "total['year'] = total['연월일'].dt.year\n",
        "total['month'] = total['연월일'].dt.month\n",
        "total['day'] = total['연월일'].dt.day\n",
        "total['weekday'] = total['연월일'].dt.weekday"
      ],
      "execution_count": 8,
      "outputs": []
    },
    {
      "cell_type": "code",
      "metadata": {
        "id": "YwZfNTqWh80V"
      },
      "source": [
        "total_A = total[total['구분']==0]\n",
        "total_B = total[total['구분']==1]\n",
        "total_C = total[total['구분']==2]\n",
        "total_D = total[total['구분']==3]\n",
        "total_E = total[total['구분']==4]\n",
        "total_G = total[total['구분']==5]\n",
        "total_H = total[total['구분']==6]"
      ],
      "execution_count": 9,
      "outputs": []
    },
    {
      "cell_type": "code",
      "metadata": {
        "id": "YW9ZQrZJq3Ph"
      },
      "source": [
        "weather = pd.read_csv('data_with_weather.csv')"
      ],
      "execution_count": 10,
      "outputs": []
    },
    {
      "cell_type": "code",
      "metadata": {
        "colab": {
          "base_uri": "https://localhost:8080/",
          "height": 206
        },
        "id": "weePzEaLrYzn",
        "outputId": "61b6b460-913d-4cdf-e58f-663dc9438328"
      },
      "source": [
        "weather.head()"
      ],
      "execution_count": 11,
      "outputs": [
        {
          "output_type": "execute_result",
          "data": {
            "text/html": [
              "<div>\n",
              "<style scoped>\n",
              "    .dataframe tbody tr th:only-of-type {\n",
              "        vertical-align: middle;\n",
              "    }\n",
              "\n",
              "    .dataframe tbody tr th {\n",
              "        vertical-align: top;\n",
              "    }\n",
              "\n",
              "    .dataframe thead th {\n",
              "        text-align: right;\n",
              "    }\n",
              "</style>\n",
              "<table border=\"1\" class=\"dataframe\">\n",
              "  <thead>\n",
              "    <tr style=\"text-align: right;\">\n",
              "      <th></th>\n",
              "      <th>연월일</th>\n",
              "      <th>시간</th>\n",
              "      <th>구분</th>\n",
              "      <th>공급량</th>\n",
              "      <th>기온</th>\n",
              "    </tr>\n",
              "  </thead>\n",
              "  <tbody>\n",
              "    <tr>\n",
              "      <th>0</th>\n",
              "      <td>2013-01-01</td>\n",
              "      <td>1</td>\n",
              "      <td>A</td>\n",
              "      <td>2497.129</td>\n",
              "      <td>-6.609783</td>\n",
              "    </tr>\n",
              "    <tr>\n",
              "      <th>1</th>\n",
              "      <td>2013-01-01</td>\n",
              "      <td>2</td>\n",
              "      <td>A</td>\n",
              "      <td>2363.265</td>\n",
              "      <td>-7.004348</td>\n",
              "    </tr>\n",
              "    <tr>\n",
              "      <th>2</th>\n",
              "      <td>2013-01-01</td>\n",
              "      <td>3</td>\n",
              "      <td>A</td>\n",
              "      <td>2258.505</td>\n",
              "      <td>-7.214130</td>\n",
              "    </tr>\n",
              "    <tr>\n",
              "      <th>3</th>\n",
              "      <td>2013-01-01</td>\n",
              "      <td>4</td>\n",
              "      <td>A</td>\n",
              "      <td>2243.969</td>\n",
              "      <td>-7.300000</td>\n",
              "    </tr>\n",
              "    <tr>\n",
              "      <th>4</th>\n",
              "      <td>2013-01-01</td>\n",
              "      <td>5</td>\n",
              "      <td>A</td>\n",
              "      <td>2344.105</td>\n",
              "      <td>-7.511957</td>\n",
              "    </tr>\n",
              "  </tbody>\n",
              "</table>\n",
              "</div>"
            ],
            "text/plain": [
              "          연월일  시간 구분       공급량        기온\n",
              "0  2013-01-01   1  A  2497.129 -6.609783\n",
              "1  2013-01-01   2  A  2363.265 -7.004348\n",
              "2  2013-01-01   3  A  2258.505 -7.214130\n",
              "3  2013-01-01   4  A  2243.969 -7.300000\n",
              "4  2013-01-01   5  A  2344.105 -7.511957"
            ]
          },
          "metadata": {},
          "execution_count": 11
        }
      ]
    },
    {
      "cell_type": "code",
      "metadata": {
        "id": "ZQ79MO2xriOj"
      },
      "source": [
        "weather = weather['기온']\n"
      ],
      "execution_count": 12,
      "outputs": []
    },
    {
      "cell_type": "code",
      "metadata": {
        "id": "brFHm9Qywc8k"
      },
      "source": [
        "total = pd.concat([total,weather],axis=1)"
      ],
      "execution_count": 13,
      "outputs": []
    },
    {
      "cell_type": "code",
      "metadata": {
        "colab": {
          "base_uri": "https://localhost:8080/",
          "height": 206
        },
        "id": "C12YzYtnwutb",
        "outputId": "d61b3681-5727-4e32-d871-2ec1e95266ec"
      },
      "source": [
        "total.head()"
      ],
      "execution_count": 14,
      "outputs": [
        {
          "output_type": "execute_result",
          "data": {
            "text/html": [
              "<div>\n",
              "<style scoped>\n",
              "    .dataframe tbody tr th:only-of-type {\n",
              "        vertical-align: middle;\n",
              "    }\n",
              "\n",
              "    .dataframe tbody tr th {\n",
              "        vertical-align: top;\n",
              "    }\n",
              "\n",
              "    .dataframe thead th {\n",
              "        text-align: right;\n",
              "    }\n",
              "</style>\n",
              "<table border=\"1\" class=\"dataframe\">\n",
              "  <thead>\n",
              "    <tr style=\"text-align: right;\">\n",
              "      <th></th>\n",
              "      <th>연월일</th>\n",
              "      <th>시간</th>\n",
              "      <th>구분</th>\n",
              "      <th>공급량</th>\n",
              "      <th>year</th>\n",
              "      <th>month</th>\n",
              "      <th>day</th>\n",
              "      <th>weekday</th>\n",
              "      <th>기온</th>\n",
              "    </tr>\n",
              "  </thead>\n",
              "  <tbody>\n",
              "    <tr>\n",
              "      <th>0</th>\n",
              "      <td>2013-01-01</td>\n",
              "      <td>1</td>\n",
              "      <td>0</td>\n",
              "      <td>2497.129</td>\n",
              "      <td>2013</td>\n",
              "      <td>1</td>\n",
              "      <td>1</td>\n",
              "      <td>1</td>\n",
              "      <td>-6.609783</td>\n",
              "    </tr>\n",
              "    <tr>\n",
              "      <th>1</th>\n",
              "      <td>2013-01-01</td>\n",
              "      <td>2</td>\n",
              "      <td>0</td>\n",
              "      <td>2363.265</td>\n",
              "      <td>2013</td>\n",
              "      <td>1</td>\n",
              "      <td>1</td>\n",
              "      <td>1</td>\n",
              "      <td>-7.004348</td>\n",
              "    </tr>\n",
              "    <tr>\n",
              "      <th>2</th>\n",
              "      <td>2013-01-01</td>\n",
              "      <td>3</td>\n",
              "      <td>0</td>\n",
              "      <td>2258.505</td>\n",
              "      <td>2013</td>\n",
              "      <td>1</td>\n",
              "      <td>1</td>\n",
              "      <td>1</td>\n",
              "      <td>-7.214130</td>\n",
              "    </tr>\n",
              "    <tr>\n",
              "      <th>3</th>\n",
              "      <td>2013-01-01</td>\n",
              "      <td>4</td>\n",
              "      <td>0</td>\n",
              "      <td>2243.969</td>\n",
              "      <td>2013</td>\n",
              "      <td>1</td>\n",
              "      <td>1</td>\n",
              "      <td>1</td>\n",
              "      <td>-7.300000</td>\n",
              "    </tr>\n",
              "    <tr>\n",
              "      <th>4</th>\n",
              "      <td>2013-01-01</td>\n",
              "      <td>5</td>\n",
              "      <td>0</td>\n",
              "      <td>2344.105</td>\n",
              "      <td>2013</td>\n",
              "      <td>1</td>\n",
              "      <td>1</td>\n",
              "      <td>1</td>\n",
              "      <td>-7.511957</td>\n",
              "    </tr>\n",
              "  </tbody>\n",
              "</table>\n",
              "</div>"
            ],
            "text/plain": [
              "         연월일  시간  구분       공급량  year  month  day  weekday        기온\n",
              "0 2013-01-01   1   0  2497.129  2013      1    1        1 -6.609783\n",
              "1 2013-01-01   2   0  2363.265  2013      1    1        1 -7.004348\n",
              "2 2013-01-01   3   0  2258.505  2013      1    1        1 -7.214130\n",
              "3 2013-01-01   4   0  2243.969  2013      1    1        1 -7.300000\n",
              "4 2013-01-01   5   0  2344.105  2013      1    1        1 -7.511957"
            ]
          },
          "metadata": {},
          "execution_count": 14
        }
      ]
    },
    {
      "cell_type": "code",
      "metadata": {
        "id": "QvIk6QycE06Z"
      },
      "source": [
        "train_years = [2013,2014,2015,2016,2017]\n",
        "val_years = [2018]"
      ],
      "execution_count": 15,
      "outputs": []
    },
    {
      "cell_type": "code",
      "metadata": {
        "id": "CUPsPDLnE672"
      },
      "source": [
        "train = total[total['year'].isin(train_years)]\n",
        "val = total[total['year'].isin(val_years)]"
      ],
      "execution_count": 16,
      "outputs": []
    },
    {
      "cell_type": "code",
      "metadata": {
        "id": "uST0Yh9n_9vF"
      },
      "source": [
        "features = ['구분', 'month', 'day', 'weekday', '시간', '기온']\n",
        "train_x = train[features]\n",
        "train_y = train['공급량']\n",
        "\n",
        "val_x = val[features]\n",
        "val_y = val['공급량']\n"
      ],
      "execution_count": 17,
      "outputs": []
    },
    {
      "cell_type": "code",
      "metadata": {
        "id": "56sAcNG-FH6t",
        "colab": {
          "base_uri": "https://localhost:8080/"
        },
        "outputId": "363ae4c0-904f-4da5-bbd1-10f88f83baab"
      },
      "source": [
        "d_train = lgb.Dataset(train_x, train_y)\n",
        "d_val = lgb.Dataset(val_x, val_y)\n",
        "\n",
        "params = {\n",
        "    'task' : 'train',\n",
        "    'objective': 'regression',\n",
        "    'metric':'mae',\n",
        "    'seed':42\n",
        "}\n",
        "\n",
        "model = lgb.train(params, d_train, 500, d_val, verbose_eval=20, early_stopping_rounds=10)"
      ],
      "execution_count": 18,
      "outputs": [
        {
          "output_type": "stream",
          "name": "stdout",
          "text": [
            "Training until validation scores don't improve for 10 rounds.\n",
            "[20]\tvalid_0's l1: 262.82\n",
            "[40]\tvalid_0's l1: 194.409\n",
            "[60]\tvalid_0's l1: 175.812\n",
            "[80]\tvalid_0's l1: 169.478\n",
            "[100]\tvalid_0's l1: 166.155\n",
            "[120]\tvalid_0's l1: 165.067\n",
            "Early stopping, best iteration is:\n",
            "[116]\tvalid_0's l1: 164.628\n"
          ]
        }
      ]
    },
    {
      "cell_type": "code",
      "metadata": {
        "id": "3Knx-t8AFcpA",
        "outputId": "82db7899-29c8-48fe-b229-99a64f0fedba",
        "colab": {
          "base_uri": "https://localhost:8080/",
          "height": 172
        }
      },
      "source": [
        "model.predict(train_x, train_y)"
      ],
      "execution_count": 29,
      "outputs": [
        {
          "output_type": "error",
          "ename": "AttributeError",
          "evalue": "ignored",
          "traceback": [
            "\u001b[0;31m---------------------------------------------------------------------------\u001b[0m",
            "\u001b[0;31mAttributeError\u001b[0m                            Traceback (most recent call last)",
            "\u001b[0;32m<ipython-input-29-848a288d389e>\u001b[0m in \u001b[0;36m<module>\u001b[0;34m()\u001b[0m\n\u001b[0;32m----> 1\u001b[0;31m \u001b[0mmodel\u001b[0m\u001b[0;34m.\u001b[0m\u001b[0mfit\u001b[0m\u001b[0;34m(\u001b[0m\u001b[0mtrain_x\u001b[0m\u001b[0;34m,\u001b[0m \u001b[0mtrain_y\u001b[0m\u001b[0;34m)\u001b[0m\u001b[0;34m\u001b[0m\u001b[0;34m\u001b[0m\u001b[0m\n\u001b[0m",
            "\u001b[0;31mAttributeError\u001b[0m: 'Booster' object has no attribute 'fit'"
          ]
        }
      ]
    },
    {
      "cell_type": "code",
      "metadata": {
        "id": "CSlFl-IjB55Y"
      },
      "source": [
        "history_size = 30*24*3\n",
        "target_size = 2160\n",
        "\n",
        "y_A = y_A.loc[y_A.date >= datetime(2016, 1, 1)]\n",
        "weather = weather[-len(y_A):]\n",
        "\n",
        "y_A = pd.concat([y_A[['supply']], weather[['체감온도']]], axis=1)\n",
        "\n",
        "X_train, y_train = prepare_data(y_A, history_size, target_size)\n"
      ],
      "execution_count": null,
      "outputs": []
    },
    {
      "cell_type": "code",
      "metadata": {
        "id": "ln4d8C_DC-or"
      },
      "source": [
        "history_size = 30*24*3\n",
        "target_size = 2160\n"
      ],
      "execution_count": 26,
      "outputs": []
    },
    {
      "cell_type": "code",
      "metadata": {
        "id": "g9j27izkDAmK",
        "outputId": "8af21091-7859-42bb-b9be-56f43aa1c662",
        "colab": {
          "base_uri": "https://localhost:8080/"
        }
      },
      "source": [
        "x_test = []\n",
        "x_test.append(total_A.values[-history_size:])\n",
        "x_test = np.array(x_test)\n",
        "x_test.shape"
      ],
      "execution_count": 27,
      "outputs": [
        {
          "output_type": "execute_result",
          "data": {
            "text/plain": [
              "(1, 2160, 8)"
            ]
          },
          "metadata": {},
          "execution_count": 27
        }
      ]
    },
    {
      "cell_type": "code",
      "metadata": {
        "id": "RbckveC_6bN9",
        "outputId": "070dbc42-80e5-4999-ba1d-bacc0e88a56e",
        "colab": {
          "base_uri": "https://localhost:8080/",
          "height": 172
        }
      },
      "source": [
        "model.fit(train_x, train_y)"
      ],
      "execution_count": 28,
      "outputs": [
        {
          "output_type": "error",
          "ename": "AttributeError",
          "evalue": "ignored",
          "traceback": [
            "\u001b[0;31m---------------------------------------------------------------------------\u001b[0m",
            "\u001b[0;31mAttributeError\u001b[0m                            Traceback (most recent call last)",
            "\u001b[0;32m<ipython-input-28-848a288d389e>\u001b[0m in \u001b[0;36m<module>\u001b[0;34m()\u001b[0m\n\u001b[0;32m----> 1\u001b[0;31m \u001b[0mmodel\u001b[0m\u001b[0;34m.\u001b[0m\u001b[0mfit\u001b[0m\u001b[0;34m(\u001b[0m\u001b[0mtrain_x\u001b[0m\u001b[0;34m,\u001b[0m \u001b[0mtrain_y\u001b[0m\u001b[0;34m)\u001b[0m\u001b[0;34m\u001b[0m\u001b[0;34m\u001b[0m\u001b[0m\n\u001b[0m",
            "\u001b[0;31mAttributeError\u001b[0m: 'Booster' object has no attribute 'fit'"
          ]
        }
      ]
    },
    {
      "cell_type": "code",
      "metadata": {
        "colab": {
          "base_uri": "https://localhost:8080/",
          "height": 172
        },
        "id": "QDaYaL6tA1TI",
        "outputId": "e6fa14a5-3c88-41c1-944b-a66f00e52879"
      },
      "source": [
        "best_lgbm = get_best_params(model, params)"
      ],
      "execution_count": 83,
      "outputs": [
        {
          "output_type": "error",
          "ename": "NameError",
          "evalue": "ignored",
          "traceback": [
            "\u001b[0;31m---------------------------------------------------------------------------\u001b[0m",
            "\u001b[0;31mNameError\u001b[0m                                 Traceback (most recent call last)",
            "\u001b[0;32m<ipython-input-83-2a957c4da637>\u001b[0m in \u001b[0;36m<module>\u001b[0;34m()\u001b[0m\n\u001b[0;32m----> 1\u001b[0;31m \u001b[0mbest_lgbm\u001b[0m \u001b[0;34m=\u001b[0m \u001b[0mget_best_params\u001b[0m\u001b[0;34m(\u001b[0m\u001b[0mmodel\u001b[0m\u001b[0;34m,\u001b[0m \u001b[0mparams\u001b[0m\u001b[0;34m)\u001b[0m\u001b[0;34m\u001b[0m\u001b[0;34m\u001b[0m\u001b[0m\n\u001b[0m",
            "\u001b[0;31mNameError\u001b[0m: name 'get_best_params' is not defined"
          ]
        }
      ]
    },
    {
      "cell_type": "code",
      "metadata": {
        "colab": {
          "base_uri": "https://localhost:8080/"
        },
        "id": "z-9BThH5cR6H",
        "outputId": "0e23cbf7-3805-48a7-c104-767346fc857e"
      },
      "source": [
        "train.groupby(['month'])['공급량'].mean()"
      ],
      "execution_count": 12,
      "outputs": [
        {
          "output_type": "execute_result",
          "data": {
            "text/plain": [
              "month\n",
              "1     1791.931346\n",
              "2     1622.932402\n",
              "3     1210.662557\n",
              "4      799.846869\n",
              "5      542.799101\n",
              "6      474.749196\n",
              "7      471.275057\n",
              "8      444.279738\n",
              "9      460.747752\n",
              "10     611.115468\n",
              "11    1137.585059\n",
              "12    1684.639508\n",
              "Name: 공급량, dtype: float64"
            ]
          },
          "metadata": {},
          "execution_count": 12
        }
      ]
    },
    {
      "cell_type": "code",
      "metadata": {
        "colab": {
          "base_uri": "https://localhost:8080/"
        },
        "id": "0qvDykaFdR-4",
        "outputId": "e10d653d-0f6e-4254-c20a-08e6521ca799"
      },
      "source": [
        "train.groupby(['구분'])['공급량'].mean()"
      ],
      "execution_count": 13,
      "outputs": [
        {
          "output_type": "execute_result",
          "data": {
            "text/plain": [
              "구분\n",
              "0    1157.195134\n",
              "1     949.208549\n",
              "2     132.983272\n",
              "3     656.975075\n",
              "4    1372.319323\n",
              "5    2028.477825\n",
              "6     246.889076\n",
              "Name: 공급량, dtype: float64"
            ]
          },
          "metadata": {},
          "execution_count": 13
        }
      ]
    },
    {
      "cell_type": "code",
      "metadata": {
        "id": "NF6OybQ8a45S"
      },
      "source": [
        "# 원핫 인코딩 (pd.get_dummies())\n",
        "\n",
        "train_one = pd.get_dummies(train)\n",
        "\n",
        "test_one = pd.get_dummies(test)\n",
        "\n",
        "\n",
        "\n",
        "# 모델 정의\n",
        "\n",
        "model = LGBMClassifier()\n",
        "\n",
        "\n",
        "\n",
        "# 모델 학습\n",
        "\n",
        "\n",
        "\n",
        "# X 는 train에서 quality 를 제외한 모든 변수\n",
        "\n",
        "# y 는 train의 qulity 변수\n",
        "\n",
        "\n",
        "\n",
        "X = train_one.drop('quality',axis= 1)\n",
        "\n",
        "y = train_one['quality']\n",
        "\n",
        "\n",
        "\n",
        "# fit 메소드를 이용해 모델 학습\n",
        "\n",
        "model.fit(X,y)\n",
        "\n",
        "\n",
        "\n",
        "# predict 메소드와 test_one 데이터를 이용해 품질 예측\n",
        "\n",
        "pred = model.predict(test_one)\n",
        "\n",
        "\n",
        "\n",
        "# sample_submission.csv 파일을 불러와 예측된 값으로 채워 주기\n",
        "\n",
        "submission = pd.read_csv('data/sample_submission.csv')\n",
        "\n",
        "submission['quality'] = pred\n",
        "\n",
        "submission.head()"
      ],
      "execution_count": null,
      "outputs": []
    },
    {
      "cell_type": "code",
      "metadata": {
        "id": "JUhnLneO9UBN"
      },
      "source": [
        "test = pd.read_csv('data/test.csv')\n",
        "submission = pd.read_csv('data/sample_submission.csv')"
      ],
      "execution_count": null,
      "outputs": []
    },
    {
      "cell_type": "code",
      "metadata": {
        "id": "H5jhO21v9U4G"
      },
      "source": [
        ""
      ],
      "execution_count": null,
      "outputs": []
    }
  ]
}