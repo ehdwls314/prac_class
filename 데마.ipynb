{
  "nbformat": 4,
  "nbformat_minor": 0,
  "metadata": {
    "colab": {
      "name": "데마 ",
      "provenance": [],
      "mount_file_id": "https://github.com/ehdwls314/prac_class/blob/main/%EB%8D%B0%EB%A7%88.ipynb",
      "authorship_tag": "ABX9TyMHthy0R/j6b6N0Nk3efdVp",
      "include_colab_link": true
    },
    "kernelspec": {
      "name": "python3",
      "display_name": "Python 3"
    },
    "language_info": {
      "name": "python"
    }
  },
  "cells": [
    {
      "cell_type": "markdown",
      "metadata": {
        "id": "view-in-github",
        "colab_type": "text"
      },
      "source": [
        "<a href=\"https://colab.research.google.com/github/ehdwls314/prac_class/blob/main/%EB%8D%B0%EB%A7%88.ipynb\" target=\"_parent\"><img src=\"https://colab.research.google.com/assets/colab-badge.svg\" alt=\"Open In Colab\"/></a>"
      ]
    },
    {
      "cell_type": "code",
      "metadata": {
        "id": "f-PRT_uA9mMP"
      },
      "source": [
        "\n",
        "import pandas as pd\n",
        "import numpy as np\n",
        "import matplotlib.pyplot as plt\n",
        "import lightgbm as lgb\n"
      ],
      "execution_count": 1,
      "outputs": []
    },
    {
      "cell_type": "code",
      "metadata": {
        "id": "DCO9O3r79bKq"
      },
      "source": [
        "# 모델 학습\n",
        "\n",
        "# X 는 train에서 quality 를 제외한 모든 변수\n",
        "# y 는 train의 qulity 변수\n",
        "\n",
        "X = train_one.drop('quality',axis= 1)\n",
        "y = train_one['quality']\n",
        "\n",
        "# fit 메소드를 이용해 모델 학습\n",
        "model.fit(X,y)\n",
        "\n",
        "# predict 메소드와 test_one 데이터를 이용해 품질 예측\n",
        "pred = model.predict(test_one)\n",
        "\n",
        "# sample_submission.csv 파일을 불러와 예측된 값으로 채워 주기\n",
        "submission = pd.read_csv('data/sample_submission.csv')\n",
        "submission['quality'] = pred\n",
        "submission.head()\n",
        "\n",
        "# 정답파일 내보내기\n",
        "submission.to_csv('lgbm_pred.csv',index = False)"
      ],
      "execution_count": null,
      "outputs": []
    },
    {
      "cell_type": "code",
      "metadata": {
        "id": "vTEa1zIC9rbo"
      },
      "source": [
        "data = pd.read_csv('한국가스공사_시간별 공급량_20181231.csv', encoding='cp949')"
      ],
      "execution_count": 2,
      "outputs": []
    },
    {
      "cell_type": "code",
      "metadata": {
        "colab": {
          "base_uri": "https://localhost:8080/",
          "height": 206
        },
        "id": "A4FrEa4SAvjE",
        "outputId": "d4817004-0428-49a1-cc55-2a106b0f3625"
      },
      "source": [
        "data.head()"
      ],
      "execution_count": 3,
      "outputs": [
        {
          "output_type": "execute_result",
          "data": {
            "text/html": [
              "<div>\n",
              "<style scoped>\n",
              "    .dataframe tbody tr th:only-of-type {\n",
              "        vertical-align: middle;\n",
              "    }\n",
              "\n",
              "    .dataframe tbody tr th {\n",
              "        vertical-align: top;\n",
              "    }\n",
              "\n",
              "    .dataframe thead th {\n",
              "        text-align: right;\n",
              "    }\n",
              "</style>\n",
              "<table border=\"1\" class=\"dataframe\">\n",
              "  <thead>\n",
              "    <tr style=\"text-align: right;\">\n",
              "      <th></th>\n",
              "      <th>연월일</th>\n",
              "      <th>시간</th>\n",
              "      <th>구분</th>\n",
              "      <th>공급량</th>\n",
              "    </tr>\n",
              "  </thead>\n",
              "  <tbody>\n",
              "    <tr>\n",
              "      <th>0</th>\n",
              "      <td>2013-01-01</td>\n",
              "      <td>1</td>\n",
              "      <td>A</td>\n",
              "      <td>2497.129</td>\n",
              "    </tr>\n",
              "    <tr>\n",
              "      <th>1</th>\n",
              "      <td>2013-01-01</td>\n",
              "      <td>2</td>\n",
              "      <td>A</td>\n",
              "      <td>2363.265</td>\n",
              "    </tr>\n",
              "    <tr>\n",
              "      <th>2</th>\n",
              "      <td>2013-01-01</td>\n",
              "      <td>3</td>\n",
              "      <td>A</td>\n",
              "      <td>2258.505</td>\n",
              "    </tr>\n",
              "    <tr>\n",
              "      <th>3</th>\n",
              "      <td>2013-01-01</td>\n",
              "      <td>4</td>\n",
              "      <td>A</td>\n",
              "      <td>2243.969</td>\n",
              "    </tr>\n",
              "    <tr>\n",
              "      <th>4</th>\n",
              "      <td>2013-01-01</td>\n",
              "      <td>5</td>\n",
              "      <td>A</td>\n",
              "      <td>2344.105</td>\n",
              "    </tr>\n",
              "  </tbody>\n",
              "</table>\n",
              "</div>"
            ],
            "text/plain": [
              "          연월일  시간 구분       공급량\n",
              "0  2013-01-01   1  A  2497.129\n",
              "1  2013-01-01   2  A  2363.265\n",
              "2  2013-01-01   3  A  2258.505\n",
              "3  2013-01-01   4  A  2243.969\n",
              "4  2013-01-01   5  A  2344.105"
            ]
          },
          "metadata": {},
          "execution_count": 3
        }
      ]
    },
    {
      "cell_type": "code",
      "metadata": {
        "colab": {
          "base_uri": "https://localhost:8080/"
        },
        "id": "5mH9MtVxAvb5",
        "outputId": "b8bd716d-39ae-4604-d624-e1050f5ac4fd"
      },
      "source": [
        "data['구분'].unique()"
      ],
      "execution_count": 4,
      "outputs": [
        {
          "output_type": "execute_result",
          "data": {
            "text/plain": [
              "array(['A', 'B', 'C', 'D', 'E', 'G', 'H'], dtype=object)"
            ]
          },
          "metadata": {},
          "execution_count": 4
        }
      ]
    },
    {
      "cell_type": "code",
      "metadata": {
        "id": "BrDQA1-YAvVp"
      },
      "source": [
        "d_map = {}\n",
        "for i, d in enumerate(data['구분'].unique()):\n",
        "    d_map[d] = i\n",
        "data['구분'] = data['구분'].map(d_map)"
      ],
      "execution_count": 5,
      "outputs": []
    },
    {
      "cell_type": "code",
      "metadata": {
        "id": "UOOeVPslAvDI"
      },
      "source": [
        "data['연월일'] = pd.to_datetime(data['연월일'])"
      ],
      "execution_count": 6,
      "outputs": []
    },
    {
      "cell_type": "code",
      "metadata": {
        "id": "E60sP3CmE1Oo"
      },
      "source": [
        "data['year'] = data['연월일'].dt.year\n",
        "data['month'] = data['연월일'].dt.month\n",
        "data['day'] = data['연월일'].dt.day\n",
        "data['weekday'] = data['연월일'].dt.weekday"
      ],
      "execution_count": 7,
      "outputs": []
    },
    {
      "cell_type": "code",
      "metadata": {
        "id": "YwZfNTqWh80V"
      },
      "source": [
        "data_A = data[data['구분']==0]\n",
        "data_B = data[data['구분']==1]\n",
        "data_C = data[data['구분']==2]\n",
        "data_D = data[data['구분']==3]\n",
        "data_E = data[data['구분']==4]\n",
        "data_G = data[data['구분']==5]\n",
        "data_H = data[data['구분']==6]"
      ],
      "execution_count": 8,
      "outputs": []
    },
    {
      "cell_type": "code",
      "metadata": {
        "id": "QvIk6QycE06Z"
      },
      "source": [
        "train_years = [2013,2014,2015,2016,2017]\n",
        "val_years = [2018]"
      ],
      "execution_count": 9,
      "outputs": []
    },
    {
      "cell_type": "code",
      "metadata": {
        "id": "CUPsPDLnE672"
      },
      "source": [
        "train = data[data['year'].isin(train_years)]\n",
        "val = data[data['year'].isin(val_years)]"
      ],
      "execution_count": 10,
      "outputs": []
    },
    {
      "cell_type": "code",
      "metadata": {
        "id": "uST0Yh9n_9vF"
      },
      "source": [
        "features = ['구분', 'month', 'day', 'weekday', '시간']\n",
        "train_x = train[features]\n",
        "train_y = train['공급량']\n",
        "\n",
        "val_x = val[features]\n",
        "val_y = val['공급량']\n"
      ],
      "execution_count": 11,
      "outputs": []
    },
    {
      "cell_type": "code",
      "metadata": {
        "id": "iPeUeYNwsgUV"
      },
      "source": [
        "train_data = lgb.Dataset(train_x, label = train_y)\n",
        "val_data = lgb.Dataset(val_x, label = val_y)"
      ],
      "execution_count": 16,
      "outputs": []
    },
    {
      "cell_type": "code",
      "metadata": {
        "id": "56sAcNG-FH6t",
        "colab": {
          "base_uri": "https://localhost:8080/"
        },
        "outputId": "99f44ad8-5538-441b-f894-6bc3078ddf3d"
      },
      "source": [
        "params = {\n",
        "    'learning_rate':0.01,\n",
        "    'max_depth': 16,\n",
        "    'boosting': 'gbdt', \n",
        "    'task' : 'train',\n",
        "    'objective': 'regression',\n",
        "    'metric':'mae',\n",
        "    'seed':42\n",
        "}\n",
        "\n",
        "model = lgb.train(params, train_data, 500, val_data, verbose_eval=20, early_stopping_rounds=10)"
      ],
      "execution_count": 17,
      "outputs": [
        {
          "output_type": "stream",
          "name": "stdout",
          "text": [
            "Training until validation scores don't improve for 10 rounds.\n",
            "[20]\tvalid_0's l1: 640.928\n",
            "[40]\tvalid_0's l1: 548.056\n",
            "[60]\tvalid_0's l1: 473.709\n",
            "[80]\tvalid_0's l1: 414.424\n",
            "[100]\tvalid_0's l1: 367.071\n",
            "[120]\tvalid_0's l1: 330.458\n",
            "[140]\tvalid_0's l1: 302.294\n",
            "[160]\tvalid_0's l1: 279.668\n",
            "[180]\tvalid_0's l1: 262.608\n",
            "[200]\tvalid_0's l1: 249.342\n",
            "[220]\tvalid_0's l1: 236.454\n",
            "[240]\tvalid_0's l1: 225.916\n",
            "[260]\tvalid_0's l1: 216.131\n",
            "[280]\tvalid_0's l1: 207.904\n",
            "[300]\tvalid_0's l1: 200.724\n",
            "[320]\tvalid_0's l1: 194.721\n",
            "[340]\tvalid_0's l1: 189.414\n",
            "[360]\tvalid_0's l1: 184.653\n",
            "[380]\tvalid_0's l1: 180.603\n",
            "[400]\tvalid_0's l1: 177.055\n",
            "[420]\tvalid_0's l1: 174.083\n",
            "[440]\tvalid_0's l1: 171.437\n",
            "[460]\tvalid_0's l1: 169.039\n",
            "[480]\tvalid_0's l1: 167.047\n",
            "[500]\tvalid_0's l1: 165.283\n",
            "Did not meet early stopping. Best iteration is:\n",
            "[500]\tvalid_0's l1: 165.283\n"
          ]
        }
      ]
    },
    {
      "cell_type": "code",
      "metadata": {
        "id": "DRGPglj_uoAn"
      },
      "source": [
        "predict_train = model.predict(train_x)"
      ],
      "execution_count": 15,
      "outputs": []
    },
    {
      "cell_type": "code",
      "metadata": {
        "id": "sELGNzNQxor5"
      },
      "source": [
        "test = pd.read_csv('test.csv')\n",
        "submission = pd.read_csv('sample_submission.csv')"
      ],
      "execution_count": 21,
      "outputs": []
    },
    {
      "cell_type": "code",
      "metadata": {
        "colab": {
          "base_uri": "https://localhost:8080/",
          "height": 206
        },
        "id": "BUnMLJogyHjo",
        "outputId": "9f074ba6-a98c-49bc-fbcf-034aad9328db"
      },
      "source": [
        "test.head()"
      ],
      "execution_count": 23,
      "outputs": [
        {
          "output_type": "execute_result",
          "data": {
            "text/html": [
              "<div>\n",
              "<style scoped>\n",
              "    .dataframe tbody tr th:only-of-type {\n",
              "        vertical-align: middle;\n",
              "    }\n",
              "\n",
              "    .dataframe tbody tr th {\n",
              "        vertical-align: top;\n",
              "    }\n",
              "\n",
              "    .dataframe thead th {\n",
              "        text-align: right;\n",
              "    }\n",
              "</style>\n",
              "<table border=\"1\" class=\"dataframe\">\n",
              "  <thead>\n",
              "    <tr style=\"text-align: right;\">\n",
              "      <th></th>\n",
              "      <th>일자|시간|구분</th>\n",
              "    </tr>\n",
              "  </thead>\n",
              "  <tbody>\n",
              "    <tr>\n",
              "      <th>0</th>\n",
              "      <td>2019-01-01 01 A</td>\n",
              "    </tr>\n",
              "    <tr>\n",
              "      <th>1</th>\n",
              "      <td>2019-01-01 02 A</td>\n",
              "    </tr>\n",
              "    <tr>\n",
              "      <th>2</th>\n",
              "      <td>2019-01-01 03 A</td>\n",
              "    </tr>\n",
              "    <tr>\n",
              "      <th>3</th>\n",
              "      <td>2019-01-01 04 A</td>\n",
              "    </tr>\n",
              "    <tr>\n",
              "      <th>4</th>\n",
              "      <td>2019-01-01 05 A</td>\n",
              "    </tr>\n",
              "  </tbody>\n",
              "</table>\n",
              "</div>"
            ],
            "text/plain": [
              "          일자|시간|구분\n",
              "0  2019-01-01 01 A\n",
              "1  2019-01-01 02 A\n",
              "2  2019-01-01 03 A\n",
              "3  2019-01-01 04 A\n",
              "4  2019-01-01 05 A"
            ]
          },
          "metadata": {},
          "execution_count": 23
        }
      ]
    },
    {
      "cell_type": "code",
      "metadata": {
        "colab": {
          "base_uri": "https://localhost:8080/",
          "height": 206
        },
        "id": "fZunZQUVyJK6",
        "outputId": "f3041e63-da34-4bb6-a5da-a75e9f8df597"
      },
      "source": [
        "submission.head()"
      ],
      "execution_count": 24,
      "outputs": [
        {
          "output_type": "execute_result",
          "data": {
            "text/html": [
              "<div>\n",
              "<style scoped>\n",
              "    .dataframe tbody tr th:only-of-type {\n",
              "        vertical-align: middle;\n",
              "    }\n",
              "\n",
              "    .dataframe tbody tr th {\n",
              "        vertical-align: top;\n",
              "    }\n",
              "\n",
              "    .dataframe thead th {\n",
              "        text-align: right;\n",
              "    }\n",
              "</style>\n",
              "<table border=\"1\" class=\"dataframe\">\n",
              "  <thead>\n",
              "    <tr style=\"text-align: right;\">\n",
              "      <th></th>\n",
              "      <th>일자|시간|구분</th>\n",
              "      <th>공급량</th>\n",
              "    </tr>\n",
              "  </thead>\n",
              "  <tbody>\n",
              "    <tr>\n",
              "      <th>0</th>\n",
              "      <td>2019-01-01 01 A</td>\n",
              "      <td>0</td>\n",
              "    </tr>\n",
              "    <tr>\n",
              "      <th>1</th>\n",
              "      <td>2019-01-01 02 A</td>\n",
              "      <td>0</td>\n",
              "    </tr>\n",
              "    <tr>\n",
              "      <th>2</th>\n",
              "      <td>2019-01-01 03 A</td>\n",
              "      <td>0</td>\n",
              "    </tr>\n",
              "    <tr>\n",
              "      <th>3</th>\n",
              "      <td>2019-01-01 04 A</td>\n",
              "      <td>0</td>\n",
              "    </tr>\n",
              "    <tr>\n",
              "      <th>4</th>\n",
              "      <td>2019-01-01 05 A</td>\n",
              "      <td>0</td>\n",
              "    </tr>\n",
              "  </tbody>\n",
              "</table>\n",
              "</div>"
            ],
            "text/plain": [
              "          일자|시간|구분  공급량\n",
              "0  2019-01-01 01 A    0\n",
              "1  2019-01-01 02 A    0\n",
              "2  2019-01-01 03 A    0\n",
              "3  2019-01-01 04 A    0\n",
              "4  2019-01-01 05 A    0"
            ]
          },
          "metadata": {},
          "execution_count": 24
        }
      ]
    },
    {
      "cell_type": "code",
      "metadata": {
        "id": "oHELvY7ayLtB"
      },
      "source": [
        "test['일자'] = test['일자|시간|구분'].str.split(' ').str[0]\n",
        "test['시간'] = test['일자|시간|구분'].str.split(' ').str[1].astype(int)\n",
        "test['구분'] = test['일자|시간|구분'].str.split(' ').str[2]"
      ],
      "execution_count": 26,
      "outputs": []
    },
    {
      "cell_type": "code",
      "metadata": {
        "id": "apSH9DSByMRM"
      },
      "source": [
        "test['일자'] = pd.to_datetime(test['일자'])\n",
        "test['year'] = test['일자'].dt.year\n",
        "test['month'] = test['일자'].dt.month\n",
        "test['day'] = test['일자'].dt.day\n",
        "test['weekday'] = test['일자'].dt.weekday"
      ],
      "execution_count": 27,
      "outputs": []
    },
    {
      "cell_type": "code",
      "metadata": {
        "id": "5kqianiNyP4E"
      },
      "source": [
        "test['구분'] = test['구분'].map(d_map)"
      ],
      "execution_count": 28,
      "outputs": []
    },
    {
      "cell_type": "code",
      "metadata": {
        "id": "EhlmIdVkyQcz"
      },
      "source": [
        "test_x = test[features]"
      ],
      "execution_count": 29,
      "outputs": []
    },
    {
      "cell_type": "code",
      "metadata": {
        "colab": {
          "base_uri": "https://localhost:8080/",
          "height": 423
        },
        "id": "d7nbNKeMyTvl",
        "outputId": "ed0cde3d-6e98-41ea-d3c9-f1f1b6e3336d"
      },
      "source": [
        "test_x"
      ],
      "execution_count": 30,
      "outputs": [
        {
          "output_type": "execute_result",
          "data": {
            "text/html": [
              "<div>\n",
              "<style scoped>\n",
              "    .dataframe tbody tr th:only-of-type {\n",
              "        vertical-align: middle;\n",
              "    }\n",
              "\n",
              "    .dataframe tbody tr th {\n",
              "        vertical-align: top;\n",
              "    }\n",
              "\n",
              "    .dataframe thead th {\n",
              "        text-align: right;\n",
              "    }\n",
              "</style>\n",
              "<table border=\"1\" class=\"dataframe\">\n",
              "  <thead>\n",
              "    <tr style=\"text-align: right;\">\n",
              "      <th></th>\n",
              "      <th>구분</th>\n",
              "      <th>month</th>\n",
              "      <th>day</th>\n",
              "      <th>weekday</th>\n",
              "      <th>시간</th>\n",
              "    </tr>\n",
              "  </thead>\n",
              "  <tbody>\n",
              "    <tr>\n",
              "      <th>0</th>\n",
              "      <td>0</td>\n",
              "      <td>1</td>\n",
              "      <td>1</td>\n",
              "      <td>1</td>\n",
              "      <td>1</td>\n",
              "    </tr>\n",
              "    <tr>\n",
              "      <th>1</th>\n",
              "      <td>0</td>\n",
              "      <td>1</td>\n",
              "      <td>1</td>\n",
              "      <td>1</td>\n",
              "      <td>2</td>\n",
              "    </tr>\n",
              "    <tr>\n",
              "      <th>2</th>\n",
              "      <td>0</td>\n",
              "      <td>1</td>\n",
              "      <td>1</td>\n",
              "      <td>1</td>\n",
              "      <td>3</td>\n",
              "    </tr>\n",
              "    <tr>\n",
              "      <th>3</th>\n",
              "      <td>0</td>\n",
              "      <td>1</td>\n",
              "      <td>1</td>\n",
              "      <td>1</td>\n",
              "      <td>4</td>\n",
              "    </tr>\n",
              "    <tr>\n",
              "      <th>4</th>\n",
              "      <td>0</td>\n",
              "      <td>1</td>\n",
              "      <td>1</td>\n",
              "      <td>1</td>\n",
              "      <td>5</td>\n",
              "    </tr>\n",
              "    <tr>\n",
              "      <th>...</th>\n",
              "      <td>...</td>\n",
              "      <td>...</td>\n",
              "      <td>...</td>\n",
              "      <td>...</td>\n",
              "      <td>...</td>\n",
              "    </tr>\n",
              "    <tr>\n",
              "      <th>15115</th>\n",
              "      <td>6</td>\n",
              "      <td>3</td>\n",
              "      <td>31</td>\n",
              "      <td>6</td>\n",
              "      <td>20</td>\n",
              "    </tr>\n",
              "    <tr>\n",
              "      <th>15116</th>\n",
              "      <td>6</td>\n",
              "      <td>3</td>\n",
              "      <td>31</td>\n",
              "      <td>6</td>\n",
              "      <td>21</td>\n",
              "    </tr>\n",
              "    <tr>\n",
              "      <th>15117</th>\n",
              "      <td>6</td>\n",
              "      <td>3</td>\n",
              "      <td>31</td>\n",
              "      <td>6</td>\n",
              "      <td>22</td>\n",
              "    </tr>\n",
              "    <tr>\n",
              "      <th>15118</th>\n",
              "      <td>6</td>\n",
              "      <td>3</td>\n",
              "      <td>31</td>\n",
              "      <td>6</td>\n",
              "      <td>23</td>\n",
              "    </tr>\n",
              "    <tr>\n",
              "      <th>15119</th>\n",
              "      <td>6</td>\n",
              "      <td>3</td>\n",
              "      <td>31</td>\n",
              "      <td>6</td>\n",
              "      <td>24</td>\n",
              "    </tr>\n",
              "  </tbody>\n",
              "</table>\n",
              "<p>15120 rows × 5 columns</p>\n",
              "</div>"
            ],
            "text/plain": [
              "       구분  month  day  weekday  시간\n",
              "0       0      1    1        1   1\n",
              "1       0      1    1        1   2\n",
              "2       0      1    1        1   3\n",
              "3       0      1    1        1   4\n",
              "4       0      1    1        1   5\n",
              "...    ..    ...  ...      ...  ..\n",
              "15115   6      3   31        6  20\n",
              "15116   6      3   31        6  21\n",
              "15117   6      3   31        6  22\n",
              "15118   6      3   31        6  23\n",
              "15119   6      3   31        6  24\n",
              "\n",
              "[15120 rows x 5 columns]"
            ]
          },
          "metadata": {},
          "execution_count": 30
        }
      ]
    },
    {
      "cell_type": "code",
      "metadata": {
        "id": "CnyjDLjqyW47"
      },
      "source": [
        "preds = model.predict(test_x)"
      ],
      "execution_count": 31,
      "outputs": []
    },
    {
      "cell_type": "code",
      "metadata": {
        "id": "7-UTDckOyXpK"
      },
      "source": [
        "submission['공급량'] = preds"
      ],
      "execution_count": 32,
      "outputs": []
    },
    {
      "cell_type": "code",
      "metadata": {
        "id": "prZvJNW3yYCb"
      },
      "source": [
        "submission.to_csv('/content/drive/MyDrive/데마/submission.csv', index=False)\n"
      ],
      "execution_count": 36,
      "outputs": []
    },
    {
      "cell_type": "code",
      "metadata": {
        "id": "ncp7DzwSwpWS"
      },
      "source": [
        "# sample_submission.csv 파일을 불러와 예측된 값으로 채워 주기\n",
        "\n",
        "submission = pd.read_csv('data/sample_submission.csv')\n",
        "\n",
        "submission['quality'] = pred\n",
        "\n",
        "submission.head()"
      ],
      "execution_count": null,
      "outputs": []
    },
    {
      "cell_type": "code",
      "metadata": {
        "id": "3Knx-t8AFcpA",
        "colab": {
          "base_uri": "https://localhost:8080/",
          "height": 172
        },
        "outputId": "82db7899-29c8-48fe-b229-99a64f0fedba"
      },
      "source": [
        "pred = model.predict(train_x, train_y)"
      ],
      "execution_count": null,
      "outputs": [
        {
          "output_type": "error",
          "ename": "AttributeError",
          "evalue": "ignored",
          "traceback": [
            "\u001b[0;31m---------------------------------------------------------------------------\u001b[0m",
            "\u001b[0;31mAttributeError\u001b[0m                            Traceback (most recent call last)",
            "\u001b[0;32m<ipython-input-29-848a288d389e>\u001b[0m in \u001b[0;36m<module>\u001b[0;34m()\u001b[0m\n\u001b[0;32m----> 1\u001b[0;31m \u001b[0mmodel\u001b[0m\u001b[0;34m.\u001b[0m\u001b[0mfit\u001b[0m\u001b[0;34m(\u001b[0m\u001b[0mtrain_x\u001b[0m\u001b[0;34m,\u001b[0m \u001b[0mtrain_y\u001b[0m\u001b[0;34m)\u001b[0m\u001b[0;34m\u001b[0m\u001b[0;34m\u001b[0m\u001b[0m\n\u001b[0m",
            "\u001b[0;31mAttributeError\u001b[0m: 'Booster' object has no attribute 'fit'"
          ]
        }
      ]
    },
    {
      "cell_type": "code",
      "metadata": {
        "id": "CSlFl-IjB55Y"
      },
      "source": [
        "history_size = 30*24*3\n",
        "target_size = 2160\n",
        "\n",
        "y_A = y_A.loc[y_A.date >= datetime(2016, 1, 1)]\n",
        "weather = weather[-len(y_A):]\n",
        "\n",
        "y_A = pd.concat([y_A[['supply']], weather[['체감온도']]], axis=1)\n",
        "\n",
        "X_train, y_train = prepare_data(y_A, history_size, target_size)\n"
      ],
      "execution_count": null,
      "outputs": []
    },
    {
      "cell_type": "code",
      "metadata": {
        "id": "ln4d8C_DC-or"
      },
      "source": [
        "history_size = 30*24*3\n",
        "target_size = 2160\n"
      ],
      "execution_count": null,
      "outputs": []
    },
    {
      "cell_type": "code",
      "metadata": {
        "id": "g9j27izkDAmK",
        "colab": {
          "base_uri": "https://localhost:8080/"
        },
        "outputId": "8af21091-7859-42bb-b9be-56f43aa1c662"
      },
      "source": [
        "x_test = []\n",
        "x_test.append(total_A.values[-history_size:])\n",
        "x_test = np.array(x_test)\n",
        "x_test.shape"
      ],
      "execution_count": null,
      "outputs": [
        {
          "output_type": "execute_result",
          "data": {
            "text/plain": [
              "(1, 2160, 8)"
            ]
          },
          "metadata": {},
          "execution_count": 27
        }
      ]
    },
    {
      "cell_type": "code",
      "metadata": {
        "id": "RbckveC_6bN9",
        "colab": {
          "base_uri": "https://localhost:8080/",
          "height": 172
        },
        "outputId": "070dbc42-80e5-4999-ba1d-bacc0e88a56e"
      },
      "source": [
        "model.fit(train_x, train_y)"
      ],
      "execution_count": null,
      "outputs": [
        {
          "output_type": "error",
          "ename": "AttributeError",
          "evalue": "ignored",
          "traceback": [
            "\u001b[0;31m---------------------------------------------------------------------------\u001b[0m",
            "\u001b[0;31mAttributeError\u001b[0m                            Traceback (most recent call last)",
            "\u001b[0;32m<ipython-input-28-848a288d389e>\u001b[0m in \u001b[0;36m<module>\u001b[0;34m()\u001b[0m\n\u001b[0;32m----> 1\u001b[0;31m \u001b[0mmodel\u001b[0m\u001b[0;34m.\u001b[0m\u001b[0mfit\u001b[0m\u001b[0;34m(\u001b[0m\u001b[0mtrain_x\u001b[0m\u001b[0;34m,\u001b[0m \u001b[0mtrain_y\u001b[0m\u001b[0;34m)\u001b[0m\u001b[0;34m\u001b[0m\u001b[0;34m\u001b[0m\u001b[0m\n\u001b[0m",
            "\u001b[0;31mAttributeError\u001b[0m: 'Booster' object has no attribute 'fit'"
          ]
        }
      ]
    },
    {
      "cell_type": "code",
      "metadata": {
        "colab": {
          "base_uri": "https://localhost:8080/",
          "height": 172
        },
        "id": "QDaYaL6tA1TI",
        "outputId": "e6fa14a5-3c88-41c1-944b-a66f00e52879"
      },
      "source": [
        "best_lgbm = get_best_params(model, params)"
      ],
      "execution_count": null,
      "outputs": [
        {
          "output_type": "error",
          "ename": "NameError",
          "evalue": "ignored",
          "traceback": [
            "\u001b[0;31m---------------------------------------------------------------------------\u001b[0m",
            "\u001b[0;31mNameError\u001b[0m                                 Traceback (most recent call last)",
            "\u001b[0;32m<ipython-input-83-2a957c4da637>\u001b[0m in \u001b[0;36m<module>\u001b[0;34m()\u001b[0m\n\u001b[0;32m----> 1\u001b[0;31m \u001b[0mbest_lgbm\u001b[0m \u001b[0;34m=\u001b[0m \u001b[0mget_best_params\u001b[0m\u001b[0;34m(\u001b[0m\u001b[0mmodel\u001b[0m\u001b[0;34m,\u001b[0m \u001b[0mparams\u001b[0m\u001b[0;34m)\u001b[0m\u001b[0;34m\u001b[0m\u001b[0;34m\u001b[0m\u001b[0m\n\u001b[0m",
            "\u001b[0;31mNameError\u001b[0m: name 'get_best_params' is not defined"
          ]
        }
      ]
    },
    {
      "cell_type": "code",
      "metadata": {
        "colab": {
          "base_uri": "https://localhost:8080/"
        },
        "id": "z-9BThH5cR6H",
        "outputId": "0e23cbf7-3805-48a7-c104-767346fc857e"
      },
      "source": [
        "train.groupby(['month'])['공급량'].mean()"
      ],
      "execution_count": null,
      "outputs": [
        {
          "output_type": "execute_result",
          "data": {
            "text/plain": [
              "month\n",
              "1     1791.931346\n",
              "2     1622.932402\n",
              "3     1210.662557\n",
              "4      799.846869\n",
              "5      542.799101\n",
              "6      474.749196\n",
              "7      471.275057\n",
              "8      444.279738\n",
              "9      460.747752\n",
              "10     611.115468\n",
              "11    1137.585059\n",
              "12    1684.639508\n",
              "Name: 공급량, dtype: float64"
            ]
          },
          "metadata": {},
          "execution_count": 12
        }
      ]
    },
    {
      "cell_type": "code",
      "metadata": {
        "colab": {
          "base_uri": "https://localhost:8080/"
        },
        "id": "0qvDykaFdR-4",
        "outputId": "e10d653d-0f6e-4254-c20a-08e6521ca799"
      },
      "source": [
        "train.groupby(['구분'])['공급량'].mean()"
      ],
      "execution_count": null,
      "outputs": [
        {
          "output_type": "execute_result",
          "data": {
            "text/plain": [
              "구분\n",
              "0    1157.195134\n",
              "1     949.208549\n",
              "2     132.983272\n",
              "3     656.975075\n",
              "4    1372.319323\n",
              "5    2028.477825\n",
              "6     246.889076\n",
              "Name: 공급량, dtype: float64"
            ]
          },
          "metadata": {},
          "execution_count": 13
        }
      ]
    }
  ]
}