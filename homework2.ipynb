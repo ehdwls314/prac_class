{
  "nbformat": 4,
  "nbformat_minor": 0,
  "metadata": {
    "kernelspec": {
      "display_name": "Python 3",
      "language": "python",
      "name": "python3"
    },
    "language_info": {
      "codemirror_mode": {
        "name": "ipython",
        "version": 3
      },
      "file_extension": ".py",
      "mimetype": "text/x-python",
      "name": "python",
      "nbconvert_exporter": "python",
      "pygments_lexer": "ipython3",
      "version": "3.7.3"
    },
    "nav_menu": {},
    "toc": {
      "navigate_menu": true,
      "number_sections": true,
      "sideBar": true,
      "threshold": 6,
      "toc_cell": false,
      "toc_section_display": "block",
      "toc_window_display": false
    },
    "colab": {
      "name": "05_support_vector_machines.ipynb",
      "provenance": []
    }
  },
  "cells": [
    {
      "cell_type": "markdown",
      "metadata": {
        "id": "_l8ifRdEDg24"
      },
      "source": [
        "<table align=\"left\">\n",
        "  <td>\n",
        "    <a target=\"_blank\" href=\"https://colab.research.google.com/github/rickiepark/handson-ml2/blob/master/05_support_vector_machines.ipynb\"><img src=\"https://www.tensorflow.org/images/colab_logo_32px.png\" />구글 코랩에서 실행하기</a>\n",
        "  </td>\n",
        "</table>"
      ]
    },
    {
      "cell_type": "code",
      "metadata": {
        "id": "m64oLF1NDg26"
      },
      "source": [
        "# 파이썬 ≥3.5 필수\n",
        "import sys\n",
        "assert sys.version_info >= (3, 5)\n",
        "\n",
        "# 사이킷런 ≥0.20 필수\n",
        "import sklearn\n",
        "assert sklearn.__version__ >= \"0.20\"\n",
        "\n",
        "# 공통 모듈 임포트\n",
        "import numpy as np\n",
        "import os\n",
        "\n",
        "# 노트북 실행 결과를 동일하게 유지하기 위해\n",
        "np.random.seed(42)\n",
        "\n",
        "# 깔끔한 그래프 출력을 위해\n",
        "%matplotlib inline\n",
        "import matplotlib as mpl\n",
        "import matplotlib.pyplot as plt\n",
        "mpl.rc('axes', labelsize=14)\n",
        "mpl.rc('xtick', labelsize=12)\n",
        "mpl.rc('ytick', labelsize=12)\n"
      ],
      "execution_count": 16,
      "outputs": []
    },
    {
      "cell_type": "markdown",
      "metadata": {
        "id": "S5xzs331Dg3S"
      },
      "source": [
        "# 5-8."
      ]
    },
    {
      "cell_type": "markdown",
      "metadata": {
        "id": "2_KA5G5yDg3S"
      },
      "source": [
        "_문제: 선형적으로 분리되는 데이터셋에 `LinearSVC`를 훈련시켜보세요. 그런 다음 같은 데이터셋에 `SVC`와`SGDClassifier`를 적용해보세요. 거의 비슷한 모델이 만들어지는지 확인해보세요._"
      ]
    },
    {
      "cell_type": "code",
      "metadata": {
        "id": "ShzdgyM6FeRu"
      },
      "source": [
        "from sklearn import datasets\n",
        "\n",
        "iris = datasets.load_iris() #iris dataset 불러오기"
      ],
      "execution_count": 17,
      "outputs": []
    },
    {
      "cell_type": "code",
      "metadata": {
        "id": "urUZNr8aDg3S"
      },
      "source": [
        "X = iris[\"data\"][:, (2, 3)]  # petal length, width 데이터\n",
        "y = iris[\"target\"]\n",
        "\n",
        "setosa_or_versicolor = (y == 0) | (y == 1) #target이 setosa인 경우 or versicolor인 경우는 1, 아닌 경우는 0으로 binary classification으로 만들어줌\n",
        "X = X[setosa_or_versicolor]\n",
        "y = y[setosa_or_versicolor]"
      ],
      "execution_count": 18,
      "outputs": []
    },
    {
      "cell_type": "code",
      "metadata": {
        "id": "Np-EFRrRIO7h"
      },
      "source": [
        "from sklearn.svm import SVC, LinearSVC #sklearn에서 SVC 불러옴\n",
        "from sklearn.linear_model import SGDClassifier #sklearn에서 SGDClassifier 불러옴\n",
        "from sklearn.preprocessing import StandardScaler #sklearn에서 StandardScaler 불러옴"
      ],
      "execution_count": 19,
      "outputs": []
    },
    {
      "cell_type": "code",
      "metadata": {
        "colab": {
          "base_uri": "https://localhost:8080/"
        },
        "id": "9q_3HrtGDg3S",
        "outputId": "e211eb86-924e-4cf8-9ae8-ef70d8aa7345"
      },
      "source": [
        "\n",
        "C = 5 #C를 5로 설정\n",
        "alpha = 1 / (C * len(X)) #alpah값 설정\n",
        "\n",
        "lin_clf = LinearSVC(loss=\"hinge\", C=C, random_state=42) #linear svc 사용하여 fitting\n",
        "svm_clf = SVC(kernel=\"linear\", C=C) #SVC 사용하여 fitting kernel을 linear로 설정\n",
        "sgd_clf = SGDClassifier(loss=\"hinge\", learning_rate=\"constant\", eta0=0.001, alpha=alpha,\n",
        "                        max_iter=1000, tol=1e-3, random_state=42) #SGDClassifie 사용하여 fitting\n",
        "\n",
        "scaler = StandardScaler() #data를 standardization 해서 sacling 해준다.\n",
        "X_scaled = scaler.fit_transform(X)\n",
        "\n",
        "lin_clf.fit(X_scaled, y) #scaling 된 data를 사용하여 훈련시킴\n",
        "svm_clf.fit(X_scaled, y)\n",
        "sgd_clf.fit(X_scaled, y)\n",
        "\n",
        "#각각의 intercept와 coef 나타내줌\n",
        "print(\"LinearSVC:                   \", lin_clf.intercept_, lin_clf.coef_) \n",
        "print(\"SVC:                         \", svm_clf.intercept_, svm_clf.coef_)\n",
        "print(\"SGDClassifier(alpha={:.5f}):\".format(sgd_clf.alpha), sgd_clf.intercept_, sgd_clf.coef_)"
      ],
      "execution_count": 20,
      "outputs": [
        {
          "output_type": "stream",
          "name": "stdout",
          "text": [
            "LinearSVC:                    [0.28474272] [[1.05364736 1.09903308]]\n",
            "SVC:                          [0.31896852] [[1.1203284  1.02625193]]\n",
            "SGDClassifier(alpha=0.00200): [0.117] [[0.77714169 0.72981762]]\n"
          ]
        }
      ]
    },
    {
      "cell_type": "code",
      "metadata": {
        "colab": {
          "base_uri": "https://localhost:8080/",
          "height": 291
        },
        "id": "LD7EimzkDg3S",
        "outputId": "a12cd0b5-e41b-4d45-f8de-12555269837d"
      },
      "source": [
        "# 각 decision boundary의 기울기와 편향 계산\n",
        "w1 = -lin_clf.coef_[0, 0]/lin_clf.coef_[0, 1]\n",
        "b1 = -lin_clf.intercept_[0]/lin_clf.coef_[0, 1]\n",
        "w2 = -svm_clf.coef_[0, 0]/svm_clf.coef_[0, 1]\n",
        "b2 = -svm_clf.intercept_[0]/svm_clf.coef_[0, 1]\n",
        "w3 = -sgd_clf.coef_[0, 0]/sgd_clf.coef_[0, 1]\n",
        "b3 = -sgd_clf.intercept_[0]/sgd_clf.coef_[0, 1]\n",
        "\n",
        "# decision boundary를 원 데이터로 변환\n",
        "line1 = scaler.inverse_transform([[-10, -10 * w1 + b1], [10, 10 * w1 + b1]])\n",
        "line2 = scaler.inverse_transform([[-10, -10 * w2 + b2], [10, 10 * w2 + b2]])\n",
        "line3 = scaler.inverse_transform([[-10, -10 * w3 + b3], [10, 10 * w3 + b3]])\n",
        "\n",
        "# 세 개의 decision boundary plotting\n",
        "plt.figure(figsize=(11, 4))\n",
        "plt.plot(line1[:, 0], line1[:, 1], \"k:\", label=\"LinearSVC\")\n",
        "plt.plot(line2[:, 0], line2[:, 1], \"b--\", linewidth=2, label=\"SVC\")\n",
        "plt.plot(line3[:, 0], line3[:, 1], \"r-\", label=\"SGDClassifier\")\n",
        "plt.plot(X[:, 0][y==1], X[:, 1][y==1], \"bs\") # Iris versicolor\n",
        "plt.plot(X[:, 0][y==0], X[:, 1][y==0], \"yo\") # Iris setosa\n",
        "plt.xlabel(\"Petal length\", fontsize=14) #xlabel\n",
        "plt.ylabel(\"Petal width\", fontsize=14) #ylabel\n",
        "plt.legend(loc=\"upper center\", fontsize=14) #범례달기\n",
        "plt.axis([0, 5.5, 0, 2]) #plot 범위 설정\n",
        "\n",
        "plt.show() #그래프 그리기"
      ],
      "execution_count": 21,
      "outputs": [
        {
          "output_type": "display_data",
          "data": {
            "image/png": "[encoded data removed]",
            "text/plain": [
              "<Figure size 792x288 with 1 Axes>"
            ]
          },
          "metadata": {
            "needs_background": "light"
          }
        }
      ]
    },
    {
      "cell_type": "markdown",
      "metadata": {
        "id": "7wuaRhSqDg3T"
      },
      "source": [
        "\n",
        "\n",
        "\n",
        "LineareSVC, SVC, SGDClassifier모두 거의 비슷한 모델이 만들어 지는 것을 확인 할 수 있다."
      ]
    },
    {
      "cell_type": "markdown",
      "metadata": {
        "collapsed": true,
        "id": "OWxT67ZeEH6M"
      },
      "source": [
        "## 6-7."
      ]
    },
    {
      "cell_type": "markdown",
      "metadata": {
        "id": "KWwZTpQhEH6M"
      },
      "source": [
        "_문제: moons 데이터셋에 결정 트리를 훈련시키고 세밀하게 튜닝해보세요._"
      ]
    },
    {
      "cell_type": "markdown",
      "metadata": {
        "id": "35vp7eQxEH6M"
      },
      "source": [
        "a. `make_moons(n_samples=1000, noise=0.4)`를 사용해 데이터셋을 생성합니다."
      ]
    },
    {
      "cell_type": "code",
      "metadata": {
        "id": "R3dBykE-EH6N"
      },
      "source": [
        "from sklearn.datasets import make_moons #sklearn에서 make_moons를 불러옴\n",
        "\n",
        "X, y = make_moons(n_samples=10000, noise=0.4, random_state=42) #sample 10000개의 moons data set을 생성한다.\n",
        "#random_state=42를 지정하여 결과를 일정하게 만들어줌"
      ],
      "execution_count": 22,
      "outputs": []
    },
    {
      "cell_type": "markdown",
      "metadata": {
        "id": "F2-gz-qmEH6N"
      },
      "source": [
        "b. 이를 `train_test_split()`을 사용해 훈련 세트와 테스트 세트로 나눕니다"
      ]
    },
    {
      "cell_type": "code",
      "metadata": {
        "id": "aewjT1W9EH6O"
      },
      "source": [
        "from sklearn.model_selection import train_test_split #sklearn에서 train_test_split를 불러옴\n",
        "\n",
        "\n",
        "#train_test_split()을 사용해 training set와 test set로 나눠줌\n",
        "X_train, X_test, y_train, y_test = train_test_split(X, y, test_size=0.2, random_state=42)"
      ],
      "execution_count": 27,
      "outputs": []
    },
    {
      "cell_type": "markdown",
      "metadata": {
        "id": "QL_oZ88JEH6O"
      },
      "source": [
        "c. `DecisionTreeClassifier`의 최적의 매개변수를 찾기 위해 교차 검증과 함께 그리드 탐색을 수행합니다(`GridSearchCV`를 사용하면 됩니다). 힌트: 여러 가지 `max_leaf_nodes` 값을 시도해보세요."
      ]
    },
    {
      "cell_type": "code",
      "metadata": {
        "id": "_bCZyJGtEH6O",
        "colab": {
          "base_uri": "https://localhost:8080/"
        },
        "outputId": "99074485-3641-43fd-aba1-9c58edff30da"
      },
      "source": [
        "from sklearn.model_selection import GridSearchCV #sklearn에서 GridSearchCV를 불러옴\n",
        "from sklearn.tree import DecisionTreeClassifier\n",
        "\n",
        "params = {'max_leaf_nodes': list(range(2, 100)), 'min_samples_split': [2, 3, 4]}  #parameter에 제한을 만들어준다. max_leaf_nodes값과 min_samples_split 지정\n",
        "\n",
        "grid_search_cv = GridSearchCV(DecisionTreeClassifier(random_state=42), params, verbose=1, cv=3) #3 fold cross validation과 최적의 parameter 탐색\n",
        "grid_search_cv.fit(X_train, y_train) #grid search cv fitting"
      ],
      "execution_count": 28,
      "outputs": [
        {
          "output_type": "stream",
          "name": "stdout",
          "text": [
            "Fitting 3 folds for each of 294 candidates, totalling 882 fits\n"
          ]
        },
        {
          "output_type": "stream",
          "name": "stderr",
          "text": [
            "[Parallel(n_jobs=1)]: Using backend SequentialBackend with 1 concurrent workers.\n",
            "[Parallel(n_jobs=1)]: Done 882 out of 882 | elapsed:    9.1s finished\n"
          ]
        },
        {
          "output_type": "execute_result",
          "data": {
            "text/plain": [
              "GridSearchCV(cv=3, error_score=nan,\n",
              "             estimator=DecisionTreeClassifier(ccp_alpha=0.0, class_weight=None,\n",
              "                                              criterion='gini', max_depth=None,\n",
              "                                              max_features=None,\n",
              "                                              max_leaf_nodes=None,\n",
              "                                              min_impurity_decrease=0.0,\n",
              "                                              min_impurity_split=None,\n",
              "                                              min_samples_leaf=1,\n",
              "                                              min_samples_split=2,\n",
              "                                              min_weight_fraction_leaf=0.0,\n",
              "                                              presort='deprecated',\n",
              "                                              random_state=42,\n",
              "                                              splitter='best'),\n",
              "             iid='deprecated', n_jobs=None,\n",
              "             param_grid={'max_leaf_nodes': [2, 3, 4, 5, 6, 7, 8, 9, 10, 11, 12,\n",
              "                                            13, 14, 15, 16, 17, 18, 19, 20, 21,\n",
              "                                            22, 23, 24, 25, 26, 27, 28, 29, 30,\n",
              "                                            31, ...],\n",
              "                         'min_samples_split': [2, 3, 4]},\n",
              "             pre_dispatch='2*n_jobs', refit=True, return_train_score=False,\n",
              "             scoring=None, verbose=1)"
            ]
          },
          "metadata": {},
          "execution_count": 28
        }
      ]
    },
    {
      "cell_type": "code",
      "metadata": {
        "id": "NIdLvQZtEH6O",
        "colab": {
          "base_uri": "https://localhost:8080/"
        },
        "outputId": "b1984cb2-ece0-448d-ac8e-2ed5a8adb14f"
      },
      "source": [
        "grid_search_cv.best_estimator_ #best estimator 확인"
      ],
      "execution_count": 29,
      "outputs": [
        {
          "output_type": "execute_result",
          "data": {
            "text/plain": [
              "DecisionTreeClassifier(ccp_alpha=0.0, class_weight=None, criterion='gini',\n",
              "                       max_depth=None, max_features=None, max_leaf_nodes=17,\n",
              "                       min_impurity_decrease=0.0, min_impurity_split=None,\n",
              "                       min_samples_leaf=1, min_samples_split=2,\n",
              "                       min_weight_fraction_leaf=0.0, presort='deprecated',\n",
              "                       random_state=42, splitter='best')"
            ]
          },
          "metadata": {},
          "execution_count": 29
        }
      ]
    },
    {
      "cell_type": "markdown",
      "metadata": {
        "id": "v7K_ifcrEH6O"
      },
      "source": [
        "d. 찾은 매개변수를 사용해 전체 훈련 세트에 대해 모델을 훈련시키고 테스트 세트에서 성능을 측정합니다. 대략 85~87%의 정확도가 나올 것입니다."
      ]
    },
    {
      "cell_type": "code",
      "metadata": {
        "id": "dcridsDwEH6P",
        "colab": {
          "base_uri": "https://localhost:8080/"
        },
        "outputId": "cf3e5202-9a8f-43bb-ec19-f72840edef8e"
      },
      "source": [
        "from sklearn.metrics import accuracy_score\n",
        "\n",
        "y_pred = grid_search_cv.predict(X_test) #best estimator을 사용하여 predict\n",
        "accuracy_score(y_test, y_pred) #accuracy score 구함"
      ],
      "execution_count": 30,
      "outputs": [
        {
          "output_type": "execute_result",
          "data": {
            "text/plain": [
              "0.8695"
            ]
          },
          "metadata": {},
          "execution_count": 30
        }
      ]
    }
  ]
}